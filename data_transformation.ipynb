{
 "cells": [
  {
   "cell_type": "markdown",
   "metadata": {},
   "source": [
    "# Data Transformation\n",
    "\n",
    "This jupyter notebook contains open source code for transforming a data from the Australian Institute of Health and Welfare (AIHW). The data \"State and territory community mental health care 2018-19\" is originally from \"Mental health services in Australia\" collection [1] by the AIHW. This data cube includes service contacts, patient characteristics, legal status, session type and duration and state and territory breakdowns. The AIWH (https://www.aihw.gov.au) is health and welfare statistics agency in Australia, which provides a wide range of health and welfare information.\n",
    "\n",
    "The data is available at (https://www.aihw.gov.au/reports/mental-health-services/mental-health-services-in-australia/data?page=1)"
   ]
  },
  {
   "cell_type": "markdown",
   "metadata": {},
   "source": [
    "### Import library"
   ]
  },
  {
   "cell_type": "code",
   "execution_count": 1,
   "metadata": {},
   "outputs": [],
   "source": [
    "import pandas as pd"
   ]
  },
  {
   "cell_type": "code",
   "execution_count": 2,
   "metadata": {},
   "outputs": [],
   "source": [
    "input_file = 'Community-mental-health-care-tables-2018-19.xlsx'\n",
    "output_file = 'generated_data/transformed_data.csv'"
   ]
  },
  {
   "cell_type": "markdown",
   "metadata": {},
   "source": [
    "### Read data"
   ]
  },
  {
   "cell_type": "code",
   "execution_count": 4,
   "metadata": {},
   "outputs": [],
   "source": [
    "df = pd.read_excel(input_file, sheet_name = 'Table CMHC.1', skiprows=4, header=0)\n",
    "df = df.dropna(subset=['NSW7'], how='all') # drop rows where it contains meaningless values"
   ]
  },
  {
   "cell_type": "code",
   "execution_count": 10,
   "metadata": {},
   "outputs": [
    {
     "data": {
      "text/html": [
       "<div>\n",
       "<style scoped>\n",
       "    .dataframe tbody tr th:only-of-type {\n",
       "        vertical-align: middle;\n",
       "    }\n",
       "\n",
       "    .dataframe tbody tr th {\n",
       "        vertical-align: top;\n",
       "    }\n",
       "\n",
       "    .dataframe thead th {\n",
       "        text-align: right;\n",
       "    }\n",
       "</style>\n",
       "<table border=\"1\" class=\"dataframe\">\n",
       "  <thead>\n",
       "    <tr style=\"text-align: right;\">\n",
       "      <th></th>\n",
       "      <th>Count</th>\n",
       "      <th>Unnamed: 1</th>\n",
       "      <th>NSW7</th>\n",
       "      <th>Vic6</th>\n",
       "      <th>Qld</th>\n",
       "      <th>WA</th>\n",
       "      <th>SA</th>\n",
       "      <th>Tas</th>\n",
       "      <th>ACT</th>\n",
       "      <th>NT</th>\n",
       "      <th>Total</th>\n",
       "    </tr>\n",
       "  </thead>\n",
       "  <tbody>\n",
       "    <tr>\n",
       "      <th>0</th>\n",
       "      <td>Number</td>\n",
       "      <td>Service contacts</td>\n",
       "      <td>3.169583e+06</td>\n",
       "      <td>2.323958e+06</td>\n",
       "      <td>2.025116e+06</td>\n",
       "      <td>966266.000000</td>\n",
       "      <td>708056.000000</td>\n",
       "      <td>112748.000000</td>\n",
       "      <td>317659.000000</td>\n",
       "      <td>82599.000000</td>\n",
       "      <td>9.705985e+06</td>\n",
       "    </tr>\n",
       "    <tr>\n",
       "      <th>1</th>\n",
       "      <td>Number</td>\n",
       "      <td>Patients</td>\n",
       "      <td>1.380060e+05</td>\n",
       "      <td>7.709300e+04</td>\n",
       "      <td>1.058810e+05</td>\n",
       "      <td>63668.000000</td>\n",
       "      <td>40948.000000</td>\n",
       "      <td>9353.000000</td>\n",
       "      <td>10903.000000</td>\n",
       "      <td>7201.000000</td>\n",
       "      <td>4.530530e+05</td>\n",
       "    </tr>\n",
       "    <tr>\n",
       "      <th>2</th>\n",
       "      <td>Number</td>\n",
       "      <td>Treatment daysa</td>\n",
       "      <td>2.286430e+06</td>\n",
       "      <td>1.256465e+06</td>\n",
       "      <td>1.461551e+06</td>\n",
       "      <td>720922.000000</td>\n",
       "      <td>512354.000000</td>\n",
       "      <td>89679.000000</td>\n",
       "      <td>174030.000000</td>\n",
       "      <td>65399.000000</td>\n",
       "      <td>6.566830e+06</td>\n",
       "    </tr>\n",
       "    <tr>\n",
       "      <th>3</th>\n",
       "      <td>Number</td>\n",
       "      <td>Average service contacts per patient</td>\n",
       "      <td>2.296699e+01</td>\n",
       "      <td>3.014486e+01</td>\n",
       "      <td>1.912634e+01</td>\n",
       "      <td>15.176635</td>\n",
       "      <td>17.291589</td>\n",
       "      <td>12.054742</td>\n",
       "      <td>29.135009</td>\n",
       "      <td>11.470490</td>\n",
       "      <td>2.142351e+01</td>\n",
       "    </tr>\n",
       "    <tr>\n",
       "      <th>4</th>\n",
       "      <td>Number</td>\n",
       "      <td>Average treatment days per patient</td>\n",
       "      <td>1.656761e+01</td>\n",
       "      <td>1.629804e+01</td>\n",
       "      <td>1.380371e+01</td>\n",
       "      <td>11.323145</td>\n",
       "      <td>12.512308</td>\n",
       "      <td>9.588260</td>\n",
       "      <td>15.961662</td>\n",
       "      <td>9.081933</td>\n",
       "      <td>1.449462e+01</td>\n",
       "    </tr>\n",
       "    <tr>\n",
       "      <th>6</th>\n",
       "      <td>Rateb(per 1,000 population)</td>\n",
       "      <td>Service contacts</td>\n",
       "      <td>3.939293e+02</td>\n",
       "      <td>3.560850e+02</td>\n",
       "      <td>4.007887e+02</td>\n",
       "      <td>370.737026</td>\n",
       "      <td>406.288015</td>\n",
       "      <td>212.120129</td>\n",
       "      <td>749.529861</td>\n",
       "      <td>335.967688</td>\n",
       "      <td>3.854605e+02</td>\n",
       "    </tr>\n",
       "    <tr>\n",
       "      <th>7</th>\n",
       "      <td>Rateb(per 1,000 population)</td>\n",
       "      <td>Patients</td>\n",
       "      <td>1.715198e+01</td>\n",
       "      <td>1.181246e+01</td>\n",
       "      <td>2.095480e+01</td>\n",
       "      <td>24.428144</td>\n",
       "      <td>23.496279</td>\n",
       "      <td>17.596406</td>\n",
       "      <td>25.726090</td>\n",
       "      <td>29.289741</td>\n",
       "      <td>1.799241e+01</td>\n",
       "    </tr>\n",
       "  </tbody>\n",
       "</table>\n",
       "</div>"
      ],
      "text/plain": [
       "                         Count                            Unnamed: 1  \\\n",
       "0                       Number                      Service contacts   \n",
       "1                       Number                              Patients   \n",
       "2                       Number                       Treatment daysa   \n",
       "3                       Number  Average service contacts per patient   \n",
       "4                       Number    Average treatment days per patient   \n",
       "6  Rateb(per 1,000 population)                      Service contacts   \n",
       "7  Rateb(per 1,000 population)                              Patients   \n",
       "\n",
       "           NSW7          Vic6           Qld             WA             SA  \\\n",
       "0  3.169583e+06  2.323958e+06  2.025116e+06  966266.000000  708056.000000   \n",
       "1  1.380060e+05  7.709300e+04  1.058810e+05   63668.000000   40948.000000   \n",
       "2  2.286430e+06  1.256465e+06  1.461551e+06  720922.000000  512354.000000   \n",
       "3  2.296699e+01  3.014486e+01  1.912634e+01      15.176635      17.291589   \n",
       "4  1.656761e+01  1.629804e+01  1.380371e+01      11.323145      12.512308   \n",
       "6  3.939293e+02  3.560850e+02  4.007887e+02     370.737026     406.288015   \n",
       "7  1.715198e+01  1.181246e+01  2.095480e+01      24.428144      23.496279   \n",
       "\n",
       "             Tas            ACT            NT         Total  \n",
       "0  112748.000000  317659.000000  82599.000000  9.705985e+06  \n",
       "1    9353.000000   10903.000000   7201.000000  4.530530e+05  \n",
       "2   89679.000000  174030.000000  65399.000000  6.566830e+06  \n",
       "3      12.054742      29.135009     11.470490  2.142351e+01  \n",
       "4       9.588260      15.961662      9.081933  1.449462e+01  \n",
       "6     212.120129     749.529861    335.967688  3.854605e+02  \n",
       "7      17.596406      25.726090     29.289741  1.799241e+01  "
      ]
     },
     "execution_count": 10,
     "metadata": {},
     "output_type": "execute_result"
    }
   ],
   "source": [
    "df"
   ]
  },
  {
   "cell_type": "markdown",
   "metadata": {},
   "source": [
    "As you can see in the above table, 'Table CMHC.1' contains the number of \"Service contacts\", \"Patients\", \"Treatment days\", \"Average service contacts per paitent\", and \"Average treatment days per paitient\" as well as Rate(per 1,000 population) of \"Service contacts\" and \"Patients\" in state and territory areas between 2018 and 2019."
   ]
  },
  {
   "cell_type": "markdown",
   "metadata": {},
   "source": [
    "### Extract and transform the data\n",
    "\n",
    "Extract a row 6 where it includes Service contacts rate and then remove/rename data columns"
   ]
  },
  {
   "cell_type": "code",
   "execution_count": 7,
   "metadata": {},
   "outputs": [],
   "source": [
    "extracted_df = pd.DataFrame(columns=['Count'])\n",
    "for index, row in df.iterrows():\n",
    "    if row['Count'] == 'Rateb(per 1,000 population)':\n",
    "        if row['Unnamed: 1'] != 'Patients':\n",
    "            extracted_df = extracted_df.append(row) \n",
    "extracted_df.drop(columns= ['Unnamed: 1'], inplace=True)\n",
    "extracted_df.rename(columns={\"NSW7\": \"NSW\", \"Qld\": \"QLD\", \"Tas\": \"TAS\", \"Vic6\":\"VIC\"}, inplace=True) #rename columns"
   ]
  },
  {
   "cell_type": "markdown",
   "metadata": {},
   "source": [
    "### Show the transformed data"
   ]
  },
  {
   "cell_type": "code",
   "execution_count": 9,
   "metadata": {},
   "outputs": [
    {
     "data": {
      "text/html": [
       "<div>\n",
       "<style scoped>\n",
       "    .dataframe tbody tr th:only-of-type {\n",
       "        vertical-align: middle;\n",
       "    }\n",
       "\n",
       "    .dataframe tbody tr th {\n",
       "        vertical-align: top;\n",
       "    }\n",
       "\n",
       "    .dataframe thead th {\n",
       "        text-align: right;\n",
       "    }\n",
       "</style>\n",
       "<table border=\"1\" class=\"dataframe\">\n",
       "  <thead>\n",
       "    <tr style=\"text-align: right;\">\n",
       "      <th></th>\n",
       "      <th>Count</th>\n",
       "      <th>ACT</th>\n",
       "      <th>NSW</th>\n",
       "      <th>NT</th>\n",
       "      <th>QLD</th>\n",
       "      <th>SA</th>\n",
       "      <th>TAS</th>\n",
       "      <th>Total</th>\n",
       "      <th>VIC</th>\n",
       "      <th>WA</th>\n",
       "    </tr>\n",
       "  </thead>\n",
       "  <tbody>\n",
       "    <tr>\n",
       "      <th>6</th>\n",
       "      <td>Rateb(per 1,000 population)</td>\n",
       "      <td>749.529861</td>\n",
       "      <td>393.929334</td>\n",
       "      <td>335.967688</td>\n",
       "      <td>400.788707</td>\n",
       "      <td>406.288015</td>\n",
       "      <td>212.120129</td>\n",
       "      <td>385.460477</td>\n",
       "      <td>356.085035</td>\n",
       "      <td>370.737026</td>\n",
       "    </tr>\n",
       "  </tbody>\n",
       "</table>\n",
       "</div>"
      ],
      "text/plain": [
       "                         Count         ACT         NSW          NT  \\\n",
       "6  Rateb(per 1,000 population)  749.529861  393.929334  335.967688   \n",
       "\n",
       "          QLD          SA         TAS       Total         VIC          WA  \n",
       "6  400.788707  406.288015  212.120129  385.460477  356.085035  370.737026  "
      ]
     },
     "execution_count": 9,
     "metadata": {},
     "output_type": "execute_result"
    }
   ],
   "source": [
    "extracted_df"
   ]
  },
  {
   "cell_type": "markdown",
   "metadata": {},
   "source": [
    "#"
   ]
  },
  {
   "cell_type": "markdown",
   "metadata": {},
   "source": [
    "## Conclusion\n",
    "\n",
    "In this Jupyter notebook, we demonstrated how to transform a dataset by using python code. Mental health services in Australia, State and territory community mental health care 2018-19 data collection contains 33 tables related to mental health service contacts. Python code were used to extract and transform the tables from the data collection. The transformed data shows the service contacts rate across state and territory in Australia. "
   ]
  },
  {
   "cell_type": "markdown",
   "metadata": {},
   "source": [
    "## References\n",
    "\n",
    "[1] Australia, Australian Institute of Health and Welfare, *Mental health services in Australia, State and territory community mental health care 2018-19*,  Australian Institute of Health and Welfare, 2020. [Dataset] Available:https://www.aihw.gov.au/reports/mental-health-services/mental-health-services-in-australia/data. [Accessed: January 4, 2021]."
   ]
  }
 ],
 "metadata": {
  "kernelspec": {
   "display_name": "Python 3",
   "language": "python",
   "name": "python3"
  },
  "language_info": {
   "codemirror_mode": {
    "name": "ipython",
    "version": 3
   },
   "file_extension": ".py",
   "mimetype": "text/x-python",
   "name": "python",
   "nbconvert_exporter": "python",
   "pygments_lexer": "ipython3",
   "version": "3.8.3"
  },
  "toc": {
   "base_numbering": 1,
   "nav_menu": {},
   "number_sections": false,
   "sideBar": true,
   "skip_h1_title": false,
   "title_cell": "Table of Contents",
   "title_sidebar": "Contents",
   "toc_cell": false,
   "toc_position": {},
   "toc_section_display": true,
   "toc_window_display": true
  }
 },
 "nbformat": 4,
 "nbformat_minor": 4
}
